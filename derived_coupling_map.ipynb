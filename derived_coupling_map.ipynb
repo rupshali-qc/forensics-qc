{
 "cells": [
  {
   "cell_type": "code",
   "execution_count": null,
   "metadata": {},
   "outputs": [],
   "source": [
    "def derive_coupling_map_from_circuit(transpiled_circuit):\n",
    "    num_qubits = len(transpiled_circuit.qubits)\n",
    "    derived_coupling_map = set()  # Use a set to avoid duplicate entries\n",
    "\n",
    "    # Initialize a swap history matrix (num_qubits x num_qubits)\n",
    "    swap_history_matrix = [[False for _ in range(num_qubits)] for _ in range(num_qubits)]\n",
    "\n",
    "    for instruction in transpiled_circuit.data:\n",
    "        if instruction[0].name == 'swap':\n",
    "            # If the instruction is a SWAP gate, update the matrix for the involved qubits\n",
    "            q1, q2 = [transpiled_circuit.find_bit(qarg).index for qarg in instruction[1]]\n",
    "            swap_history_matrix[q1][q2] = True\n",
    "            swap_history_matrix[q2][q1] = True  # Symmetric update\n",
    "            continue  # Move to the next instruction\n",
    "\n",
    "        if len(instruction[1]) == 2:\n",
    "            # Directly use the qubit objects\n",
    "            qubits = [qarg for qarg in instruction[1]]\n",
    "            q1, q2 = [transpiled_circuit.find_bit(qarg).index for qarg in qubits]\n",
    "\n",
    "            # Check if the qubits have been involved in a SWAP\n",
    "            if not (swap_history_matrix[q1][q2] or swap_history_matrix[q2][q1]):\n",
    "                # If there is no swap history between these qubits, add the connection\n",
    "                derived_coupling_map.add(tuple(sorted((q1, q2))))\n",
    "\n",
    "    return derived_coupling_map\n"
   ]
  }
 ],
 "metadata": {
  "language_info": {
   "name": "python"
  }
 },
 "nbformat": 4,
 "nbformat_minor": 2
}
